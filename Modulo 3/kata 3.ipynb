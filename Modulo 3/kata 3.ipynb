{
 "cells": [
  {
   "cell_type": "code",
   "execution_count": 7,
   "metadata": {},
   "outputs": [
    {
     "name": "stdout",
     "output_type": "stream",
     "text": [
      "55\n"
     ]
    }
   ],
   "source": [
    "# Tip de práctica 1: Intenta ejecutarlo en un notebook.\n",
    "a = 97\n",
    "b = 55\n",
    "# test expression / expresión de prueba\n",
    "if a < b:\n",
    "    # statement to be run / instrucción a ejecutar\n",
    "    print(b)"
   ]
  },
  {
   "cell_type": "markdown",
   "metadata": {},
   "source": [
    "# Para este ejercicio, escribirás una lógica condicional que imprima una advertencia si un asteroide se acerca a la Tierra demasiado rápido. La velocidad del asteroide varía dependiendo de lo cerca que esté del sol, y cualquier velocidad superior a 25 kilómetros por segundo (km/s) merece una advertencia.\n",
    "\n",
    "# Un asteroide se acerca, y viaja a una velocidad de 49 km/s."
   ]
  },
  {
   "cell_type": "code",
   "execution_count": 1,
   "metadata": {},
   "outputs": [
    {
     "name": "stdout",
     "output_type": "stream",
     "text": [
      "¡Alerta! Asteroide acercándose\n"
     ]
    }
   ],
   "source": [
    "asteroide = 49;\n",
    "velMinima = 25;\n",
    "\n",
    "if velMinima < asteroide:\n",
    "    print(\"¡Alerta! Asteroide acercándose\")\n",
    "else:\n",
    "    print(\"Todo bien\")"
   ]
  },
  {
   "cell_type": "markdown",
   "metadata": {},
   "source": [
    "# Si un asteroide entra en la atmósfera de la Tierra a una velocidad mayor o igual a 20 km/s, a veces produce un rayo de luz que se puede ver desde la Tierra. Escribe la lógica condicional que usa declaraciones if, else, y elif para alertar a las personas de todo el mundo que deben buscar un asteroide en el cielo. ¡Hay uno que se dirige a la tierra ahora a una velocidad de 19 km/s!"
   ]
  },
  {
   "cell_type": "code",
   "execution_count": 7,
   "metadata": {},
   "outputs": [
    {
     "name": "stdout",
     "output_type": "stream",
     "text": [
      "El asteroide no ha producido ningún rayo de luz\n"
     ]
    }
   ],
   "source": [
    "asteroide = 19;\n",
    "velMinima = 20;\n",
    "\n",
    "if velMinima <= asteroide:\n",
    "    print(\"¡Alerta! Un asteroide entro a la tierra y generó un rayo de luz\")\n",
    "else:\n",
    "    print(\"El asteroide no ha producido ningún rayo de luz\")"
   ]
  },
  {
   "cell_type": "markdown",
   "metadata": {},
   "source": [
    "# En el ejercicio anterior, trabajó con sentencias if, else, y elif para escribir programas con lógica condicional compleja. Para crear expresiones booleanas aún más interesantes, puede usar los operadores and y or en Python.\n",
    "\n",
    "# Las expresiones and son sólo si ambas subexpresiones son verdaderas.\n",
    "\n",
    "# expresión1 and expresión2\n",
    "\n",
    "# Las expresiones or son True si al menos una subexpresión es verdadera.\n",
    "\n",
    "# expresión1 or expresión2\n",
    "\n",
    "# En este ejercicio, aprenderás información más matizada sobre cuándo los asteroides representan un peligro para la Tierra, y utilizarás esa información para mejorar nuestro sistema de advertencia. Aquí está la nueva información que necesitas saber:\n",
    "\n",
    "# *Los asteroides de menos de 25 metros en su dimensión más grande probablemente se quemarán a medida que entren en la atmósfera de la Tierra.\n",
    "\n",
    "Si una pieza de un asteroide que es más grande que 25 metros pero más pequeña que 1000 metros golpeara la Tierra, causaría mucho daño.\n",
    "También discutimos en el ejercicio anterior que:\n",
    "\n",
    "# La velocidad del asteroide varía en función de lo cerca que esté del sol, y cualquier velocidad superior a 25 kilómetros por segundo (km/s) merece una advertencia.\n",
    "# Si un asteroide entra en la atmósfera de la Tierra a una velocidad mayor o igual a 20 km/s, a veces produce un rayo de luz que se puede ver desde la Tierra.\n",
    "# Usando toda esta información, escribe un programa que emita la advertencia o información correcta a la gente de la Tierra, según la velocidad y el tamaño de un asteroide. Utiliza instrucciones if, else, y elif, así como los operadores and y or."
   ]
  },
  {
   "cell_type": "code",
   "execution_count": 11,
   "metadata": {},
   "outputs": [
    {
     "name": "stdout",
     "output_type": "stream",
     "text": [
      "¡Alerta! ¡Un asteroide de  40  mestros se está acercando y puede causar graves daños!\n",
      "¡Alerta! Un asteroide produjo un rayo de luz\n"
     ]
    }
   ],
   "source": [
    "asteroide_tam = 40;\n",
    "asteroide_vel = 25;\n",
    "tmin = 25;\n",
    "tmax = 1000;\n",
    "vel_minima1 = 25;\n",
    "vel_minima2 = 20;\n",
    "\n",
    "if asteroide_vel >= vel_minima1:\n",
    "    if asteroide_tam >= tmin & asteroide_tam <= tmax:\n",
    "        print(\"¡Alerta! ¡Un asteroide de \", asteroide_tam, \" mestros se está acercando y puede causar graves daños!\")\n",
    "        if(vel_minima2 <= asteroide_vel):\n",
    "            print(\"¡Alerta! Un asteroide produjo un rayo de luz\")\n",
    "    else:\n",
    "        print(\"¡Alerta! Un asteroide se está acercando\")\n",
    "        if(vel_minima2 <= asteroide_vel):\n",
    "            print(\"¡Alerta! Un asteroide produjo un rayo de luz\")\n",
    "else:\n",
    "    print(\"Todo bien\")"
   ]
  }
 ],
 "metadata": {
  "interpreter": {
   "hash": "e4b3e01458a0cb76f406700e2ab94a1e1cbc921b1cd55a8327ce7556f7965d81"
  },
  "kernelspec": {
   "display_name": "Python 3.10.2 64-bit",
   "language": "python",
   "name": "python3"
  },
  "language_info": {
   "codemirror_mode": {
    "name": "ipython",
    "version": 3
   },
   "file_extension": ".py",
   "mimetype": "text/x-python",
   "name": "python",
   "nbconvert_exporter": "python",
   "pygments_lexer": "ipython3",
   "version": "3.10.2"
  },
  "orig_nbformat": 4
 },
 "nbformat": 4,
 "nbformat_minor": 2
}
